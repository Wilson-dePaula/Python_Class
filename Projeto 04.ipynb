{
 "cells": [
  {
   "cell_type": "code",
   "execution_count": 32,
   "id": "postal-observation",
   "metadata": {},
   "outputs": [
    {
     "name": "stdout",
     "output_type": "stream",
     "text": [
      "Nome da cidade:Ouro Branco\n"
     ]
    },
    {
     "data": {
      "text/plain": [
       "{'coord': {'lon': -43.6919, 'lat': -20.5208},\n",
       " 'weather': [{'id': 802,\n",
       "   'main': 'Clouds',\n",
       "   'description': 'scattered clouds',\n",
       "   'icon': '03d'}],\n",
       " 'base': 'stations',\n",
       " 'main': {'temp': 293.25,\n",
       "  'feels_like': 294.47,\n",
       "  'temp_min': 293.25,\n",
       "  'temp_max': 293.25,\n",
       "  'pressure': 1015,\n",
       "  'humidity': 86,\n",
       "  'sea_level': 1015,\n",
       "  'grnd_level': 900},\n",
       " 'visibility': 10000,\n",
       " 'wind': {'speed': 2.06, 'deg': 99, 'gust': 2.87},\n",
       " 'clouds': {'all': 28},\n",
       " 'dt': 1616532692,\n",
       " 'sys': {'country': 'BR', 'sunrise': 1616489964, 'sunset': 1616533382},\n",
       " 'timezone': -10800,\n",
       " 'id': 3455689,\n",
       " 'name': 'Ouro Branco',\n",
       " 'cod': 200}"
      ]
     },
     "metadata": {},
     "output_type": "display_data"
    }
   ],
   "source": [
    "#Projeto 04 key cfb8501e66558869b386461a2d38bf62\n",
    "\n",
    "import requests\n",
    "import pandas as pd\n",
    "from IPython.display import display\n",
    " \n",
    "def get_weather(api_key, location):\n",
    "    url = \"https://api.openweathermap.org/data/2.5/weather?q={}&appid={}\".format(location, api_key)\n",
    "    r = requests.get(url)\n",
    "    return r.json()\n",
    " \n",
    "def main():\n",
    "    global location\n",
    "    api_key = 'cfb8501e66558869b386461a2d38bf62'\n",
    "    weather = get_weather(api_key, location)\n",
    "    display(weather)\n",
    "\n",
    "location =input('Nome da cidade:')\n",
    "main()\n"
   ]
  },
  {
   "cell_type": "code",
   "execution_count": null,
   "id": "pleased-continuity",
   "metadata": {},
   "outputs": [],
   "source": []
  },
  {
   "cell_type": "code",
   "execution_count": null,
   "id": "stuck-location",
   "metadata": {},
   "outputs": [],
   "source": []
  }
 ],
 "metadata": {
  "kernelspec": {
   "display_name": "Python 3",
   "language": "python",
   "name": "python3"
  },
  "language_info": {
   "codemirror_mode": {
    "name": "ipython",
    "version": 3
   },
   "file_extension": ".py",
   "mimetype": "text/x-python",
   "name": "python",
   "nbconvert_exporter": "python",
   "pygments_lexer": "ipython3",
   "version": "3.8.8"
  }
 },
 "nbformat": 4,
 "nbformat_minor": 5
}
