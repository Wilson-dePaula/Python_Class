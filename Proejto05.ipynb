{
 "cells": [
  {
   "cell_type": "code",
   "execution_count": 39,
   "id": "cathedral-combination",
   "metadata": {},
   "outputs": [
    {
     "name": "stdout",
     "output_type": "stream",
     "text": [
      "Hora da aula\n"
     ]
    }
   ],
   "source": [
    "from playsound import playsound\n",
    "import datetime\n",
    "from time import sleep\n",
    "\n",
    "segunda=datetime.date.today()\n",
    "\n",
    "segunda_aula=datetime.time(20,0,0)\n",
    "t=str(segunda_aula.hour)\n",
    "d=str(segunda.day)\n",
    "\n",
    "\n",
    "if d=='29' or t=='20':\n",
    "    playsound('Downloads/Alarm Clock_alarm.wav')\n",
    "    print('Hora da aula')\n",
    "    \n",
    "else:\n",
    "    print('Ainda nao esta na hora da aula. Aguarde')"
   ]
  },
  {
   "cell_type": "code",
   "execution_count": null,
   "id": "mineral-lover",
   "metadata": {},
   "outputs": [],
   "source": []
  },
  {
   "cell_type": "code",
   "execution_count": null,
   "id": "armed-component",
   "metadata": {},
   "outputs": [],
   "source": []
  }
 ],
 "metadata": {
  "kernelspec": {
   "display_name": "Python 3",
   "language": "python",
   "name": "python3"
  },
  "language_info": {
   "codemirror_mode": {
    "name": "ipython",
    "version": 3
   },
   "file_extension": ".py",
   "mimetype": "text/x-python",
   "name": "python",
   "nbconvert_exporter": "python",
   "pygments_lexer": "ipython3",
   "version": "3.8.8"
  }
 },
 "nbformat": 4,
 "nbformat_minor": 5
}
